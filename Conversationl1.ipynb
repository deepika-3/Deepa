{
  "nbformat": 4,
  "nbformat_minor": 0,
  "metadata": {
    "colab": {
      "provenance": [],
      "authorship_tag": "ABX9TyN5uMEa6VMgGZD5aVLmyE2M",
      "include_colab_link": true
    },
    "kernelspec": {
      "name": "python3",
      "display_name": "Python 3"
    },
    "language_info": {
      "name": "python"
    }
  },
  "cells": [
    {
      "cell_type": "markdown",
      "metadata": {
        "id": "view-in-github",
        "colab_type": "text"
      },
      "source": [
        "<a href=\"https://colab.research.google.com/github/deepika-3/Deepa/blob/main/Conversationl1.ipynb\" target=\"_parent\"><img src=\"https://colab.research.google.com/assets/colab-badge.svg\" alt=\"Open In Colab\"/></a>"
      ]
    },
    {
      "cell_type": "code",
      "execution_count": null,
      "metadata": {
        "colab": {
          "base_uri": "https://localhost:8080/",
          "height": 245
        },
        "id": "GFG_O-rD3rca",
        "outputId": "ff88bce1-6e48-4aaf-8d7f-69b6491a3621"
      },
      "outputs": [
        {
          "output_type": "error",
          "ename": "ValueError",
          "evalue": "OpenAI API key not found. Make sure you have an .env file with the key defined.",
          "traceback": [
            "\u001b[0;31m---------------------------------------------------------------------------\u001b[0m",
            "\u001b[0;31mValueError\u001b[0m                                Traceback (most recent call last)",
            "\u001b[0;32m<ipython-input-36-2366070d756f>\u001b[0m in \u001b[0;36m<cell line: 17>\u001b[0;34m()\u001b[0m\n\u001b[1;32m     17\u001b[0m \u001b[0;32mif\u001b[0m \u001b[0mOPENAI_API_KEY\u001b[0m \u001b[0;32mis\u001b[0m \u001b[0;32mNone\u001b[0m\u001b[0;34m:\u001b[0m\u001b[0;34m\u001b[0m\u001b[0;34m\u001b[0m\u001b[0m\n\u001b[1;32m     18\u001b[0m \u001b[0;34m\u001b[0m\u001b[0m\n\u001b[0;32m---> 19\u001b[0;31m  \u001b[0;32mraise\u001b[0m \u001b[0mValueError\u001b[0m\u001b[0;34m(\u001b[0m\u001b[0;34m\"OpenAI API key not found. Make sure you have an .env file with the key defined.\"\u001b[0m\u001b[0;34m)\u001b[0m\u001b[0;34m\u001b[0m\u001b[0;34m\u001b[0m\u001b[0m\n\u001b[0m\u001b[1;32m     20\u001b[0m \u001b[0;34m\u001b[0m\u001b[0m\n\u001b[1;32m     21\u001b[0m \u001b[0;34m\u001b[0m\u001b[0m\n",
            "\u001b[0;31mValueError\u001b[0m: OpenAI API key not found. Make sure you have an .env file with the key defined."
          ]
        }
      ],
      "source": [
        "  #conversationl\n",
        "\n",
        "\n",
        "import streamlit as st\n",
        "from langchain.schema import HumanMessage,SystemMessage,AIMessage\n",
        "from langchain.chat_models import ChatOpenAI\n",
        "\n",
        "\n",
        "st.set_page_config(page_title=\"Conversational Q&A ChatBot\")\n",
        "st.header(\"hey, lets chat\")\n",
        "\n",
        "from dotenv import load_dotenv\n",
        "load_dotenv()\n",
        "import os\n",
        "load_dotenv()\n",
        "OPENAI_API_KEY = os.getenv(\"OPENAI_API_KEY\")\n",
        "if OPENAI_API_KEY is None:\n",
        "\n",
        "   raise ValueError(\"OpenAI API key not found. Make sure you have an .env file with the key defined.\")\n",
        "\n",
        "\n",
        "chat=ChatOpenAI(temperature=0.5)\n",
        "\n",
        "if 'flowmessages' not in st.session_state:\n",
        "\n",
        "   st.session_state['flowmessages']=[SystemMessage(content=\"your are a comedian AI assistent\")]\n",
        "\n",
        "    #answer=chat(st.session_state['flowmessages'])\n",
        "\n",
        "\n",
        "def get_openai_response(question):\n",
        "\n",
        "    st.session_state['flowmessages'].append(HumanMessage(content=question))\n",
        "    question=chat(st.session_state['flowmessages'])\n",
        "    st.session_state['flowmessages'].append(AIMessage(content=question.content))\n",
        "    response=llm()\n",
        "    return question.content\n",
        "\n",
        "def get_chatmodel_response(answer):\n",
        "\n",
        "    st.session_state['flowmessages'].append(HumanMessage(content=answer))\n",
        "    answer=chat(st.session_state['flowmessages'])\n",
        "    st.session_state['flowmessages'].append(AIMessage(content=answer.content))\n",
        "    response=llm()\n",
        "    return answer.content\n",
        "\n",
        "    input=st.text_input(\"input: \",keys=\"input\")\n",
        "    response=get_chatmodel_response(input)\n",
        "\n",
        "    submit=st.button(\"ask the question\")\n",
        "\n",
        "if submit:\n",
        "    st.subheader(\"the response is\")\n",
        "    st.write(response)\n",
        "\n",
        "\n"
      ]
    }
  ]
}