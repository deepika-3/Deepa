{
  "nbformat": 4,
  "nbformat_minor": 0,
  "metadata": {
    "colab": {
      "provenance": [],
      "authorship_tag": "ABX9TyM0FfJP/8MDZISKwPjT2SrA",
      "include_colab_link": true
    },
    "kernelspec": {
      "name": "python3",
      "display_name": "Python 3"
    },
    "language_info": {
      "name": "python"
    }
  },
  "cells": [
    {
      "cell_type": "markdown",
      "metadata": {
        "id": "view-in-github",
        "colab_type": "text"
      },
      "source": [
        "<a href=\"https://colab.research.google.com/github/deepika-3/Deepa/blob/main/Tibia_Masks.ipynb\" target=\"_parent\"><img src=\"https://colab.research.google.com/assets/colab-badge.svg\" alt=\"Open In Colab\"/></a>"
      ]
    },
    {
      "cell_type": "code",
      "source": [
        "import os\n",
        "import zipfile\n",
        "import numpy as np\n",
        "import nibabel as nib\n",
        "from scipy.ndimage import binary_dilation, gaussian_filter, map_coordinates\n",
        "from google.colab import files  # Remove if not on Colab\n",
        "\n",
        "# Create output directory\n",
        "output_dir = \"output_masks\"\n",
        "os.makedirs(output_dir, exist_ok=True)\n",
        "\n",
        "# Simulate tibia mask (simple cube for demo),np.zero is used to create background or no mask,later tibia region is\n",
        "# represented.\n",
        "mask = np.zeros((128, 128, 128), dtype=np.uint8)\n",
        "mask[40:90, 40:90, 40:90] = 1  # Simulated \"tibia\" region\n",
        "\n",
        "# Save function ,this function takes 3d mask array and converts it into Nifti form\n",
        "# and saves in to output file.\n",
        "\n",
        "def save_mask(mask_array, filename):\n",
        "    img = nib.Nifti1Image(mask_array.astype(np.uint8), affine=np.eye(4))\n",
        "    nib.save(img, os.path.join(output_dir, filename + \".nii.gz\"))\n",
        "\n",
        "# Elastic deformation function\n",
        "def elastic_deform(mask, seed, alpha=10, sigma=4):\n",
        "    np.random.seed(seed)\n",
        "    shape = mask.shape\n",
        "\n",
        "    dx = gaussian_filter((np.random.rand(*shape) * 2 - 1), sigma, mode=\"constant\") * alpha\n",
        "    dy = gaussian_filter((np.random.rand(*shape) * 2 - 1), sigma, mode=\"constant\") * alpha\n",
        "    dz = gaussian_filter((np.random.rand(*shape) * 2 - 1), sigma, mode=\"constant\") * alpha\n",
        "\n",
        "    x, y, z = np.meshgrid(np.arange(shape[0]), np.arange(shape[1]), np.arange(shape[2]), indexing=\"ij\")\n",
        "    indices = np.reshape(x + dx, (-1, 1)), np.reshape(y + dy, (-1, 1)), np.reshape(z + dz, (-1, 1))\n",
        "\n",
        "    deformed = map_coordinates(mask, indices, order=1, mode='reflect').reshape(shape)\n",
        "    return (deformed > 0.5).astype(np.uint8)\n",
        "\n",
        "# Masks to generate with parameters,takes parameters\n",
        "tasks = [\n",
        "    (\"Original_Mask\", mask),\n",
        "    (\"Expanded_2mm_Mask\", binary_dilation(mask, iterations=3)),\n",
        "    (\"Expanded_4mm_Mask\", binary_dilation(mask, iterations=6)),\n",
        "]\n",
        "\n",
        "# Add randomized masks with different seeds, these numbers are seeds,which reproduce defferent\n",
        "#but consistent random transformations.\n",
        "\n",
        "random_seeds = [42, 99]\n",
        "for i, seed in enumerate(random_seeds, start=1):\n",
        "    randomized_mask = elastic_deform(mask, seed=seed)\n",
        "    tasks.append((f\"Randomized_Mask_{i}\", randomized_mask))\n",
        "\n",
        "# Saving all masks\n",
        "for name, mask_data in tasks:\n",
        "    print(f\"Saving {name}...\")\n",
        "    save_mask(mask_data, name)\n",
        "\n",
        "# Zip all saved masks\n",
        "zip_filename = \"Tibia_Masks.zip\"\n",
        "with zipfile.ZipFile(zip_filename, 'w') as zipf:\n",
        "    for file in os.listdir(output_dir):\n",
        "        zipf.write(os.path.join(output_dir, file), arcname=file)\n",
        "\n",
        "print(f\"All masks saved and zipped as {zip_filename}\")\n",
        "\n",
        "# Download zip in Google Colab\n",
        "files.download(zip_filename)\n"
      ],
      "metadata": {
        "colab": {
          "base_uri": "https://localhost:8080/",
          "height": 121
        },
        "id": "QW-6VjO7vpgw",
        "outputId": "781ee730-3408-4a89-f1b0-a1f19ac47dbe"
      },
      "execution_count": 17,
      "outputs": [
        {
          "output_type": "stream",
          "name": "stdout",
          "text": [
            "Saving Original_Mask...\n",
            "Saving Expanded_2mm_Mask...\n",
            "Saving Expanded_4mm_Mask...\n",
            "Saving Randomized_Mask_1...\n",
            "Saving Randomized_Mask_2...\n",
            "All masks saved and zipped as Tibia_Masks.zip\n"
          ]
        },
        {
          "output_type": "display_data",
          "data": {
            "text/plain": [
              "<IPython.core.display.Javascript object>"
            ],
            "application/javascript": [
              "\n",
              "    async function download(id, filename, size) {\n",
              "      if (!google.colab.kernel.accessAllowed) {\n",
              "        return;\n",
              "      }\n",
              "      const div = document.createElement('div');\n",
              "      const label = document.createElement('label');\n",
              "      label.textContent = `Downloading \"${filename}\": `;\n",
              "      div.appendChild(label);\n",
              "      const progress = document.createElement('progress');\n",
              "      progress.max = size;\n",
              "      div.appendChild(progress);\n",
              "      document.body.appendChild(div);\n",
              "\n",
              "      const buffers = [];\n",
              "      let downloaded = 0;\n",
              "\n",
              "      const channel = await google.colab.kernel.comms.open(id);\n",
              "      // Send a message to notify the kernel that we're ready.\n",
              "      channel.send({})\n",
              "\n",
              "      for await (const message of channel.messages) {\n",
              "        // Send a message to notify the kernel that we're ready.\n",
              "        channel.send({})\n",
              "        if (message.buffers) {\n",
              "          for (const buffer of message.buffers) {\n",
              "            buffers.push(buffer);\n",
              "            downloaded += buffer.byteLength;\n",
              "            progress.value = downloaded;\n",
              "          }\n",
              "        }\n",
              "      }\n",
              "      const blob = new Blob(buffers, {type: 'application/binary'});\n",
              "      const a = document.createElement('a');\n",
              "      a.href = window.URL.createObjectURL(blob);\n",
              "      a.download = filename;\n",
              "      div.appendChild(a);\n",
              "      a.click();\n",
              "      div.remove();\n",
              "    }\n",
              "  "
            ]
          },
          "metadata": {}
        },
        {
          "output_type": "display_data",
          "data": {
            "text/plain": [
              "<IPython.core.display.Javascript object>"
            ],
            "application/javascript": [
              "download(\"download_1a3e667e-44a3-4e6e-b0b1-4b2f25c744e6\", \"Tibia_Masks.zip\", 31269761)"
            ]
          },
          "metadata": {}
        }
      ]
    },
    {
      "cell_type": "code",
      "source": [],
      "metadata": {
        "id": "uAowmMigvp9W"
      },
      "execution_count": null,
      "outputs": []
    },
    {
      "cell_type": "code",
      "source": [],
      "metadata": {
        "id": "eua_R3W5vqTJ"
      },
      "execution_count": null,
      "outputs": []
    }
  ]
}