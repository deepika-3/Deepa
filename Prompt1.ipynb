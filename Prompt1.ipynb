{
  "nbformat": 4,
  "nbformat_minor": 0,
  "metadata": {
    "colab": {
      "provenance": [],
      "authorship_tag": "ABX9TyOaVjqp7EzRSY+xjP50kxYt",
      "include_colab_link": true
    },
    "kernelspec": {
      "name": "python3",
      "display_name": "Python 3"
    },
    "language_info": {
      "name": "python"
    }
  },
  "cells": [
    {
      "cell_type": "markdown",
      "metadata": {
        "id": "view-in-github",
        "colab_type": "text"
      },
      "source": [
        "<a href=\"https://colab.research.google.com/github/deepika-3/Deepa/blob/main/Prompt1.ipynb\" target=\"_parent\"><img src=\"https://colab.research.google.com/assets/colab-badge.svg\" alt=\"Open In Colab\"/></a>"
      ]
    },
    {
      "cell_type": "code",
      "execution_count": null,
      "metadata": {
        "id": "9YKw4X3_Ivwh"
      },
      "outputs": [],
      "source": [
        "import os\n",
        "os.environ[\"OPENAI_API_KEY\"] = \"\"\n",
        "os.environ[\"\"]\n",
        "from langchain import PromptTemplate\n",
        "\n",
        "demo_template = \"\"\"I want to act as a financial advisor for people.\n",
        "            In an easy way ,explain the basics of {financial_concept}.\"\"\"\n",
        "Prompt=promptTemplate(input_variables=[financial_concept],\n",
        "               template=demo_template)\n",
        "prompt.format(finanial_concept='income tax')\n",
        "\n",
        "from langchain.llms import OpenAI\n",
        "from langchain.chains import LLMChain\n",
        "\n",
        "llm=OpenAI(temparature=0.7)\n",
        "chain1=LLMChain(llm=llm,prompt=prompt)\n",
        "chain1.run('income tax')\n",
        ""
      ]
    }
  ]
}