{
  "nbformat": 4,
  "nbformat_minor": 0,
  "metadata": {
    "colab": {
      "provenance": [],
      "authorship_tag": "ABX9TyMsm1ZO6Uv3dTEMlYFtcc/d",
      "include_colab_link": true
    },
    "kernelspec": {
      "name": "python3",
      "display_name": "Python 3"
    },
    "language_info": {
      "name": "python"
    }
  },
  "cells": [
    {
      "cell_type": "markdown",
      "metadata": {
        "id": "view-in-github",
        "colab_type": "text"
      },
      "source": [
        "<a href=\"https://colab.research.google.com/github/deepika-3/Deepa/blob/main/Housepred.ipynb\" target=\"_parent\"><img src=\"https://colab.research.google.com/assets/colab-badge.svg\" alt=\"Open In Colab\"/></a>"
      ]
    },
    {
      "cell_type": "code",
      "execution_count": null,
      "metadata": {
        "id": "HkAWhd87zRzB"
      },
      "outputs": [],
      "source": [
        "import numpy as np\n",
        "import pandas as pd\n",
        "df = pd.read_csv(‘USA_Housing.csv’)\n",
        "df.info()\n",
        "df = df.drop(‘Address’, axis=1)\n",
        "X = df.drop(‘Price’, axis=1)\n",
        "\n",
        "y = df[‘Price’]\n",
        "\n",
        "from sklearn.model_selection import train_test_split\n",
        "X_train, X_text, y_train, y_test = train_test_split(X,y, test_size=0.3, random_state=1)\n",
        "\n",
        "from sklearn.linear_model import LinearRegression\n",
        "ln = LinearRegression()\n",
        "ln.fit(X_train,y_train)\n",
        "predictions = ln.predict(y_test)\n",
        "\n",
        "# Coefficients\n",
        "print('Coefficients: \\n', regressor.coef_)\n",
        "# The mean squared error\n",
        "print(\"Mean squared error: %.2f\" % np.mean((regressor.predict(X_test) - y_test) ** 2))\n",
        "# Explained variance score: 1 is perfect prediction\n",
        "print('Variance score: %.2f' % regressor.score(X_test, y_test))"
      ]
    }
  ]
}