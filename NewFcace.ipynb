{
  "nbformat": 4,
  "nbformat_minor": 0,
  "metadata": {
    "colab": {
      "provenance": [],
      "mount_file_id": "1m430up_6TMdGKy8roRbmJjVjenIEGgek",
      "authorship_tag": "ABX9TyOGCvZl2ZWq7YueBWG6r/JK",
      "include_colab_link": true
    },
    "kernelspec": {
      "name": "python3",
      "display_name": "Python 3"
    },
    "language_info": {
      "name": "python"
    }
  },
  "cells": [
    {
      "cell_type": "markdown",
      "metadata": {
        "id": "view-in-github",
        "colab_type": "text"
      },
      "source": [
        "<a href=\"https://colab.research.google.com/github/deepika-3/Deepa/blob/main/NewFcace.ipynb\" target=\"_parent\"><img src=\"https://colab.research.google.com/assets/colab-badge.svg\" alt=\"Open In Colab\"/></a>"
      ]
    },
    {
      "cell_type": "code",
      "source": [
        "!pip install colab-xterm\n",
        "%load_ext colabxterm"
      ],
      "metadata": {
        "colab": {
          "base_uri": "https://localhost:8080/"
        },
        "id": "ZSgTGMyfiWJ8",
        "outputId": "1a06fe51-2c59-449e-db0a-20250b17d566"
      },
      "execution_count": null,
      "outputs": [
        {
          "output_type": "stream",
          "name": "stdout",
          "text": [
            "Collecting colab-xterm\n",
            "  Downloading colab_xterm-0.2.0-py3-none-any.whl (115 kB)\n",
            "\u001b[?25l     \u001b[90m━━━━━━━━━━━━━━━━━━━━━━━━━━━━━━━━━━━━━━━━\u001b[0m \u001b[32m0.0/115.6 kB\u001b[0m \u001b[31m?\u001b[0m eta \u001b[36m-:--:--\u001b[0m\r\u001b[2K     \u001b[91m━━━━━━━━━━━━━━━━━━━━━━━━━━━━━━━━━━━━━━\u001b[0m\u001b[91m╸\u001b[0m\u001b[90m━\u001b[0m \u001b[32m112.6/115.6 kB\u001b[0m \u001b[31m3.6 MB/s\u001b[0m eta \u001b[36m0:00:01\u001b[0m\r\u001b[2K     \u001b[90m━━━━━━━━━━━━━━━━━━━━━━━━━━━━━━━━━━━━━━━━\u001b[0m \u001b[32m115.6/115.6 kB\u001b[0m \u001b[31m2.9 MB/s\u001b[0m eta \u001b[36m0:00:00\u001b[0m\n",
            "\u001b[?25hRequirement already satisfied: ptyprocess~=0.7.0 in /usr/local/lib/python3.10/dist-packages (from colab-xterm) (0.7.0)\n",
            "Requirement already satisfied: tornado>5.1 in /usr/local/lib/python3.10/dist-packages (from colab-xterm) (6.3.2)\n",
            "Installing collected packages: colab-xterm\n",
            "Successfully installed colab-xterm-0.2.0\n"
          ]
        }
      ]
    },
    {
      "cell_type": "code",
      "execution_count": null,
      "metadata": {
        "id": "Dcu6COixdeFa"
      },
      "outputs": [],
      "source": [
        "import cv2\n",
        "import numpy as np\n",
        "import os\n",
        "\n",
        "cv2_base_dir = os.path.dirname(os.path.abspath(cv2.__file__))\n",
        "haar_model = os.path.join(cv2_base_dir, 'My Drive/haarcascade_frontalface_default.xml')\n",
        "\n",
        "face_cascade = cv2.CascadeClassifier('/content/sample_data/haarcascade_frontalface_default.xml')\n",
        "eye_cascade = cv2.CascadeClassifier('root/opencv/data/HAARcascades/HAARcascade_eye.xml')\n",
        "cap = cv2.VideoCapture(0)\n",
        "\n",
        "classifier = CascadeClassifier('haarcascade_frontalface_default.xml')\n",
        "bboxes = classifier.detectMultiScale(pixels)\n",
        "# print bounding box for each detected face\n",
        "for box in bboxes:\n",
        " print(box)\n",
        " pixels = imread('')\n",
        "\n",
        " from cv2 import imread\n",
        "from cv2 import CascadeClassifier\n",
        "# load the photograph\n",
        "pixels = imread('test1.jpg')\n",
        "# load the pre-trained model\n",
        "classifier = CascadeClassifier('haarcascade_frontalface_default.xml')\n",
        "# perform face detection\n",
        "bboxes = classifier.detectMultiScale(pixels)\n",
        "# print bounding box for each detected face\n",
        "for box in bboxes:\n",
        " print(box)\n",
        " x, y, width, height = box\n",
        "x2, y2 = x + width, y + height\n",
        "# draw a rectangle over the pixels\n",
        "rectangle(pixels, (x, y), (x2, y2), (0,0,255), 1)\n",
        "\n",
        "imshow('face detection', pixels)\n",
        "# keep the window open until we press a key\n",
        "waitKey(0)\n",
        "# close the window\n",
        "destroyAllWindows()\n",
        "\n",
        "\n",
        "\n",
        "\n"
      ]
    },
    {
      "cell_type": "code",
      "source": [
        "from cv2 import imread\n",
        "from cv2 import imshow\n",
        "from cv2 import waitKey\n",
        "from cv2 import destroyAllWindows\n",
        "from cv2 import CascadeClassifier\n",
        "from cv2 import rectangle\n",
        "# load the photograph\n",
        "\n",
        "pixels = imread('/content/sample_data/9-woman-face-png-image.png')\n",
        "# load the pre-trained model\n",
        "classifier = CascadeClassifier('/content/sample_data/haarcascade_frontalface_default.xml')\n",
        "# perform face detection\n",
        "bboxes = classifier.detectMultiScale(pixels)\n",
        "# print bounding box for each detected face\n",
        "for box in bboxes:\n",
        " # extract\n",
        " x, y, width, height = box\n",
        " x2, y2 = x + width, y + height\n",
        " # draw a rectangle over the pixels\n",
        " rectangle(pixels, (x, y), (x2, y2), (0,0,255), 1)\n",
        "# show the image\n",
        "imshow('face detection', pixels)\n",
        "# keep the window open until we press a key\n",
        "waitKey(0)\n",
        "# close the window\n",
        "destroyAllWindows()"
      ],
      "metadata": {
        "id": "F54XY7bCjGKK"
      },
      "execution_count": null,
      "outputs": []
    }
  ]
}