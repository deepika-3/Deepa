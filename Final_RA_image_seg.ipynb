{
  "nbformat": 4,
  "nbformat_minor": 0,
  "metadata": {
    "colab": {
      "provenance": [],
      "authorship_tag": "ABX9TyMWmy0moeyrUP69HIYCoBX9",
      "include_colab_link": true
    },
    "kernelspec": {
      "name": "python3",
      "display_name": "Python 3"
    },
    "language_info": {
      "name": "python"
    }
  },
  "cells": [
    {
      "cell_type": "markdown",
      "metadata": {
        "id": "view-in-github",
        "colab_type": "text"
      },
      "source": [
        "<a href=\"https://colab.research.google.com/github/deepika-3/Deepa/blob/main/Final_RA_image_seg.ipynb\" target=\"_parent\"><img src=\"https://colab.research.google.com/assets/colab-badge.svg\" alt=\"Open In Colab\"/></a>"
      ]
    },
    {
      "cell_type": "code",
      "source": [
        "!pip install nibabel matplotlib numpy scikit-image\n"
      ],
      "metadata": {
        "id": "S-axlLdUtrQX",
        "colab": {
          "base_uri": "https://localhost:8080/"
        },
        "outputId": "b2853356-caca-4fcc-e2e5-59e3ab00e0ea"
      },
      "execution_count": 19,
      "outputs": [
        {
          "output_type": "stream",
          "name": "stdout",
          "text": [
            "Requirement already satisfied: nibabel in /usr/local/lib/python3.11/dist-packages (5.3.2)\n",
            "Requirement already satisfied: matplotlib in /usr/local/lib/python3.11/dist-packages (3.10.0)\n",
            "Requirement already satisfied: numpy in /usr/local/lib/python3.11/dist-packages (2.0.2)\n",
            "Requirement already satisfied: scikit-image in /usr/local/lib/python3.11/dist-packages (0.25.2)\n",
            "Requirement already satisfied: importlib-resources>=5.12 in /usr/local/lib/python3.11/dist-packages (from nibabel) (6.5.2)\n",
            "Requirement already satisfied: packaging>=20 in /usr/local/lib/python3.11/dist-packages (from nibabel) (24.2)\n",
            "Requirement already satisfied: typing-extensions>=4.6 in /usr/local/lib/python3.11/dist-packages (from nibabel) (4.13.2)\n",
            "Requirement already satisfied: contourpy>=1.0.1 in /usr/local/lib/python3.11/dist-packages (from matplotlib) (1.3.2)\n",
            "Requirement already satisfied: cycler>=0.10 in /usr/local/lib/python3.11/dist-packages (from matplotlib) (0.12.1)\n",
            "Requirement already satisfied: fonttools>=4.22.0 in /usr/local/lib/python3.11/dist-packages (from matplotlib) (4.58.0)\n",
            "Requirement already satisfied: kiwisolver>=1.3.1 in /usr/local/lib/python3.11/dist-packages (from matplotlib) (1.4.8)\n",
            "Requirement already satisfied: pillow>=8 in /usr/local/lib/python3.11/dist-packages (from matplotlib) (11.2.1)\n",
            "Requirement already satisfied: pyparsing>=2.3.1 in /usr/local/lib/python3.11/dist-packages (from matplotlib) (3.2.3)\n",
            "Requirement already satisfied: python-dateutil>=2.7 in /usr/local/lib/python3.11/dist-packages (from matplotlib) (2.9.0.post0)\n",
            "Requirement already satisfied: scipy>=1.11.4 in /usr/local/lib/python3.11/dist-packages (from scikit-image) (1.15.3)\n",
            "Requirement already satisfied: networkx>=3.0 in /usr/local/lib/python3.11/dist-packages (from scikit-image) (3.4.2)\n",
            "Requirement already satisfied: imageio!=2.35.0,>=2.33 in /usr/local/lib/python3.11/dist-packages (from scikit-image) (2.37.0)\n",
            "Requirement already satisfied: tifffile>=2022.8.12 in /usr/local/lib/python3.11/dist-packages (from scikit-image) (2025.5.10)\n",
            "Requirement already satisfied: lazy-loader>=0.4 in /usr/local/lib/python3.11/dist-packages (from scikit-image) (0.4)\n",
            "Requirement already satisfied: six>=1.5 in /usr/local/lib/python3.11/dist-packages (from python-dateutil>=2.7->matplotlib) (1.17.0)\n"
          ]
        }
      ]
    },
    {
      "cell_type": "code",
      "source": [
        "import sys\n",
        "print(sys.version)"
      ],
      "metadata": {
        "colab": {
          "base_uri": "https://localhost:8080/"
        },
        "id": "MAHcOmZWwyHV",
        "outputId": "98e814ce-5a4c-4f23-fdb9-325be64437c2"
      },
      "execution_count": 20,
      "outputs": [
        {
          "output_type": "stream",
          "name": "stdout",
          "text": [
            "3.11.12 (main, Apr  9 2025, 08:55:54) [GCC 11.4.0]\n"
          ]
        }
      ]
    },
    {
      "cell_type": "code",
      "source": [],
      "metadata": {
        "id": "A1BCE8FnzSqz"
      },
      "execution_count": 20,
      "outputs": []
    },
    {
      "cell_type": "code",
      "source": [
        "output_dir = \"/content/sample_data/RA output\"\n",
        "os.makedirs(output_dir, exist_ok=True)\n",
        "\n",
        "# Loading the .nii.gz file\n",
        "\n",
        "nii_image = nib.load(\"/content/3702_left_knee.nii.gz\")\n",
        "image_data = nii_image.get_fdata()\n",
        "print(image_data)\n",
        "\n",
        "\n",
        "# Selecting a 2D slice from the 3D image (e.g., middle slice) in order to reduce computation\n",
        "# and complexicity\n",
        "\n",
        "for i in range(num_slices):\n",
        "    # ... your segmentation logic ...\n",
        "    image_slice = image_data[:, :, i]\n",
        "\n",
        "    if np.max(image_slice) == 0:\n",
        "        print(f\"Skipping blank slice {i}\")\n",
        "        continue\n",
        "\n",
        "    # Segmentation is dividing the image , seperating the object from foreground to background we have to\n",
        "# Perform simple thresholding (Otsu's method) for that Applying Otsu's thresholding\n",
        "\n",
        "    thresh = threshold_otsu(image_slice)\n",
        "    binary_mask = image_slice > thresh\n",
        "\n",
        "    # Normalize image_slice to 0-1 for proper saving\n",
        "    norm_slice = (image_slice - np.min(image_slice)) / (np.ptp(image_slice) + 1e-8)\n",
        "\n",
        "    original_path = f\"{output_dir}/slice_{i:03d}_original.png\"\n",
        "    mask_path = f\"{output_dir}/slice_{i:03d}_mask.png\"\n",
        "\n",
        "    plt.imsave(original_path, norm_slice, cmap='gray')\n",
        "    plt.imsave(mask_path, binary_mask.astype(np.uint8), cmap='gray')\n"
      ],
      "metadata": {
        "colab": {
          "base_uri": "https://localhost:8080/"
        },
        "id": "SP32wPfczPBT",
        "outputId": "b2f5efb8-1f01-43a1-b283-80c5b1444871"
      },
      "execution_count": 21,
      "outputs": [
        {
          "output_type": "stream",
          "name": "stdout",
          "text": [
            "[[[-1000. -1000. -1000. ... -1000. -1000. -1000.]\n",
            "  [-1000. -1000. -1000. ... -1000. -1000. -1000.]\n",
            "  [-1000. -1000. -1000. ... -1000. -1000. -1000.]\n",
            "  ...\n",
            "  [-1000. -1000. -1000. ... -1000. -1000. -1000.]\n",
            "  [-1000. -1000. -1000. ... -1000. -1000. -1000.]\n",
            "  [-1000. -1000. -1000. ... -1000. -1000. -1000.]]\n",
            "\n",
            " [[-1000. -1000. -1000. ... -1000. -1000. -1000.]\n",
            "  [-1000. -1000. -1000. ... -1000. -1000. -1000.]\n",
            "  [-1000. -1000. -1000. ... -1000. -1000. -1000.]\n",
            "  ...\n",
            "  [-1000. -1000. -1000. ... -1000. -1000. -1000.]\n",
            "  [-1000. -1000. -1000. ... -1000. -1000. -1000.]\n",
            "  [-1000. -1000. -1000. ... -1000. -1000. -1000.]]\n",
            "\n",
            " [[-1000. -1000. -1000. ... -1000. -1000. -1000.]\n",
            "  [-1000. -1000. -1000. ... -1000. -1000. -1000.]\n",
            "  [-1000. -1000. -1000. ... -1000. -1000. -1000.]\n",
            "  ...\n",
            "  [-1000. -1000. -1000. ... -1000. -1000. -1000.]\n",
            "  [-1000. -1000. -1000. ... -1000. -1000. -1000.]\n",
            "  [-1000. -1000. -1000. ... -1000. -1000. -1000.]]\n",
            "\n",
            " ...\n",
            "\n",
            " [[-3024. -3024. -3024. ... -3024. -3024. -3024.]\n",
            "  [-3024. -3024. -3024. ... -3024. -3024. -3024.]\n",
            "  [-3024. -3024. -3024. ... -3024. -3024. -3024.]\n",
            "  ...\n",
            "  [-3024. -3024. -3024. ... -3024. -3024. -3024.]\n",
            "  [-3024. -3024. -3024. ... -3024. -3024. -3024.]\n",
            "  [-3024. -3024. -3024. ... -3024. -3024. -3024.]]\n",
            "\n",
            " [[-3024. -3024. -3024. ... -3024. -3024. -3024.]\n",
            "  [-3024. -3024. -3024. ... -3024. -3024. -3024.]\n",
            "  [-3024. -3024. -3024. ... -3024. -3024. -3024.]\n",
            "  ...\n",
            "  [-3024. -3024. -3024. ... -3024. -3024. -3024.]\n",
            "  [-3024. -3024. -3024. ... -3024. -3024. -3024.]\n",
            "  [-3024. -3024. -3024. ... -3024. -3024. -3024.]]\n",
            "\n",
            " [[-3024. -3024. -3024. ... -3024. -3024. -3024.]\n",
            "  [-3024. -3024. -3024. ... -3024. -3024. -3024.]\n",
            "  [-3024. -3024. -3024. ... -3024. -3024. -3024.]\n",
            "  ...\n",
            "  [-3024. -3024. -3024. ... -3024. -3024. -3024.]\n",
            "  [-3024. -3024. -3024. ... -3024. -3024. -3024.]\n",
            "  [-3024. -3024. -3024. ... -3024. -3024. -3024.]]]\n"
          ]
        }
      ]
    },
    {
      "cell_type": "code",
      "source": [
        "import shutil\n",
        "\n",
        "shutil.make_archive(\"/content/RA_output\", 'zip', \"/content/sample_data/RA output\")\n"
      ],
      "metadata": {
        "colab": {
          "base_uri": "https://localhost:8080/",
          "height": 36
        },
        "id": "QAYB0zigBj5D",
        "outputId": "3b9f560a-c821-43d7-bd05-e5cef73fbde1"
      },
      "execution_count": 22,
      "outputs": [
        {
          "output_type": "execute_result",
          "data": {
            "text/plain": [
              "'/content/RA_output.zip'"
            ],
            "application/vnd.google.colaboratory.intrinsic+json": {
              "type": "string"
            }
          },
          "metadata": {},
          "execution_count": 22
        }
      ]
    },
    {
      "cell_type": "code",
      "source": [
        "from google.colab import files\n",
        "files.download(\"/content/RA_output.zip\")\n"
      ],
      "metadata": {
        "colab": {
          "base_uri": "https://localhost:8080/",
          "height": 17
        },
        "id": "bw0536dvBlX3",
        "outputId": "3232e671-da2e-4fa8-d54b-4b2382f5b99b"
      },
      "execution_count": 23,
      "outputs": [
        {
          "output_type": "display_data",
          "data": {
            "text/plain": [
              "<IPython.core.display.Javascript object>"
            ],
            "application/javascript": [
              "\n",
              "    async function download(id, filename, size) {\n",
              "      if (!google.colab.kernel.accessAllowed) {\n",
              "        return;\n",
              "      }\n",
              "      const div = document.createElement('div');\n",
              "      const label = document.createElement('label');\n",
              "      label.textContent = `Downloading \"${filename}\": `;\n",
              "      div.appendChild(label);\n",
              "      const progress = document.createElement('progress');\n",
              "      progress.max = size;\n",
              "      div.appendChild(progress);\n",
              "      document.body.appendChild(div);\n",
              "\n",
              "      const buffers = [];\n",
              "      let downloaded = 0;\n",
              "\n",
              "      const channel = await google.colab.kernel.comms.open(id);\n",
              "      // Send a message to notify the kernel that we're ready.\n",
              "      channel.send({})\n",
              "\n",
              "      for await (const message of channel.messages) {\n",
              "        // Send a message to notify the kernel that we're ready.\n",
              "        channel.send({})\n",
              "        if (message.buffers) {\n",
              "          for (const buffer of message.buffers) {\n",
              "            buffers.push(buffer);\n",
              "            downloaded += buffer.byteLength;\n",
              "            progress.value = downloaded;\n",
              "          }\n",
              "        }\n",
              "      }\n",
              "      const blob = new Blob(buffers, {type: 'application/binary'});\n",
              "      const a = document.createElement('a');\n",
              "      a.href = window.URL.createObjectURL(blob);\n",
              "      a.download = filename;\n",
              "      div.appendChild(a);\n",
              "      a.click();\n",
              "      div.remove();\n",
              "    }\n",
              "  "
            ]
          },
          "metadata": {}
        },
        {
          "output_type": "display_data",
          "data": {
            "text/plain": [
              "<IPython.core.display.Javascript object>"
            ],
            "application/javascript": [
              "download(\"download_917b203a-67dc-4e92-a677-a62f42d9b36d\", \"RA_output.zip\", 9215219)"
            ]
          },
          "metadata": {}
        }
      ]
    }
  ]
}