{
  "nbformat": 4,
  "nbformat_minor": 0,
  "metadata": {
    "colab": {
      "provenance": [],
      "authorship_tag": "ABX9TyNygNVXY/FE2bu73WOI395u",
      "include_colab_link": true
    },
    "kernelspec": {
      "name": "python3",
      "display_name": "Python 3"
    },
    "language_info": {
      "name": "python"
    }
  },
  "cells": [
    {
      "cell_type": "markdown",
      "metadata": {
        "id": "view-in-github",
        "colab_type": "text"
      },
      "source": [
        "<a href=\"https://colab.research.google.com/github/deepika-3/Deepa/blob/main/Recommendation_system.ipynb\" target=\"_parent\"><img src=\"https://colab.research.google.com/assets/colab-badge.svg\" alt=\"Open In Colab\"/></a>"
      ]
    },
    {
      "cell_type": "code",
      "source": [
        "\n",
        "!pip install scikit-surprise\n"
      ],
      "metadata": {
        "colab": {
          "base_uri": "https://localhost:8080/"
        },
        "id": "suANiO-UrnvM",
        "outputId": "a3cba5e7-cb8e-4f29-ed81-7eca855521f4"
      },
      "execution_count": 12,
      "outputs": [
        {
          "output_type": "stream",
          "name": "stdout",
          "text": [
            "Collecting scikit-surprise\n",
            "  Downloading scikit_surprise-1.1.4.tar.gz (154 kB)\n",
            "\u001b[?25l     \u001b[90m━━━━━━━━━━━━━━━━━━━━━━━━━━━━━━━━━━━━━━━━\u001b[0m \u001b[32m0.0/154.4 kB\u001b[0m \u001b[31m?\u001b[0m eta \u001b[36m-:--:--\u001b[0m\r\u001b[2K     \u001b[91m━━━━━━━━━━━━━━━━━━━━━━━\u001b[0m\u001b[91m╸\u001b[0m\u001b[90m━━━━━━━━━━━━━━━━\u001b[0m \u001b[32m92.2/154.4 kB\u001b[0m \u001b[31m2.5 MB/s\u001b[0m eta \u001b[36m0:00:01\u001b[0m\r\u001b[2K     \u001b[90m━━━━━━━━━━━━━━━━━━━━━━━━━━━━━━━━━━━━━━━━\u001b[0m \u001b[32m154.4/154.4 kB\u001b[0m \u001b[31m2.4 MB/s\u001b[0m eta \u001b[36m0:00:00\u001b[0m\n",
            "\u001b[?25h  Installing build dependencies ... \u001b[?25l\u001b[?25hdone\n",
            "  Getting requirements to build wheel ... \u001b[?25l\u001b[?25hdone\n",
            "  Preparing metadata (pyproject.toml) ... \u001b[?25l\u001b[?25hdone\n",
            "Requirement already satisfied: joblib>=1.2.0 in /usr/local/lib/python3.10/dist-packages (from scikit-surprise) (1.4.2)\n",
            "Requirement already satisfied: numpy>=1.19.5 in /usr/local/lib/python3.10/dist-packages (from scikit-surprise) (1.26.4)\n",
            "Requirement already satisfied: scipy>=1.6.0 in /usr/local/lib/python3.10/dist-packages (from scikit-surprise) (1.13.1)\n",
            "Building wheels for collected packages: scikit-surprise\n",
            "  Building wheel for scikit-surprise (pyproject.toml) ... \u001b[?25l\u001b[?25hdone\n",
            "  Created wheel for scikit-surprise: filename=scikit_surprise-1.1.4-cp310-cp310-linux_x86_64.whl size=2357274 sha256=ed4da93b6ac4d684d4151b3b612d86c34a3f814d64470031337a661de322b34c\n",
            "  Stored in directory: /root/.cache/pip/wheels/4b/3f/df/6acbf0a40397d9bf3ff97f582cc22fb9ce66adde75bc71fd54\n",
            "Successfully built scikit-surprise\n",
            "Installing collected packages: scikit-surprise\n",
            "Successfully installed scikit-surprise-1.1.4\n"
          ]
        }
      ]
    },
    {
      "cell_type": "code",
      "source": [
        "import pandas as pd\n",
        "\n",
        "# Example ratings DataFrame\n",
        "data = {\n",
        "    'userId': [1, 1, 1, 2, 2, 3, 3, 4, 4, 5],\n",
        "    'movieId': [1, 2, 3, 1, 3, 2, 4, 1, 2, 3],\n",
        "    'rating': [5, 3, 4, 4, 2, 5, 1, 2, 4, 5]\n",
        "}\n",
        "ratings = pd.DataFrame(data)\n"
      ],
      "metadata": {
        "id": "vFSpQ4oRrn_q"
      },
      "execution_count": 13,
      "outputs": []
    },
    {
      "cell_type": "code",
      "source": [
        "from surprise import Dataset, Reader\n",
        "from surprise import SVD\n",
        "from surprise import accuracy\n",
        "from surprise.model_selection import train_test_split\n",
        "\n",
        "# Load the data into Surprise format\n",
        "reader = Reader(rating_scale=(1, 5))\n",
        "data = Dataset.load_from_df(ratings[['userId', 'movieId', 'rating']], reader)\n",
        "\n",
        "# Split the dataset into training and testing sets\n",
        "trainset, testset = train_test_split(data, test_size=0.2)\n",
        "\n",
        "# Train the SVD model\n",
        "model = SVD()\n",
        "model.fit(trainset)\n",
        "\n",
        "# Make predictions on the test set\n",
        "predictions = model.test(testset)\n",
        "\n",
        "# Evaluate the model\n",
        "rmse = accuracy.rmse(predictions)\n",
        "print(f'Root Mean Squared Error: {rmse:.2f}')\n"
      ],
      "metadata": {
        "colab": {
          "base_uri": "https://localhost:8080/"
        },
        "id": "j316YM6wroMd",
        "outputId": "1f933534-97ab-464d-c747-d8c31b3fa685"
      },
      "execution_count": 14,
      "outputs": [
        {
          "output_type": "stream",
          "name": "stdout",
          "text": [
            "RMSE: 2.0392\n",
            "Root Mean Squared Error: 2.04\n"
          ]
        }
      ]
    },
    {
      "cell_type": "code",
      "source": [
        "# Function to get movie recommendations for a user\n",
        "def get_recommendations(user_id, model, ratings, num_recommendations=5):\n",
        "    # Get all movie IDs\n",
        "    all_movie_ids = ratings['movieId'].unique()\n",
        "\n",
        "    # Get the movies already rated by the user\n",
        "    rated_movies = ratings[ratings['userId'] == user_id]['movieId'].tolist()\n",
        "\n",
        "    # Predict ratings for all movies not rated by the user\n",
        "    predictions = []\n",
        "    for movie_id in all_movie_ids:\n",
        "        if movie_id not in rated_movies:\n",
        "            pred_rating = model.predict(user_id, movie_id).est\n",
        "            predictions.append((movie_id, pred_rating))\n",
        "\n",
        "    # Sort predictions by rating\n",
        "    predictions.sort(key=lambda x: x[1], reverse=True)\n",
        "\n",
        "    # Return the top N movie recommendations\n",
        "    return predictions[:num_recommendations]\n",
        "\n",
        "# Example usage\n",
        "user_id = 1\n",
        "recommendations = get_recommendations(user_id, model, ratings)\n",
        "print(f\"Top recommendations for user {user_id}: {recommendations}\")\n"
      ],
      "metadata": {
        "colab": {
          "base_uri": "https://localhost:8080/"
        },
        "id": "N_SZIaNLroSp",
        "outputId": "56cc2923-0d1f-4a28-bb67-34de951b1c3c"
      },
      "execution_count": 15,
      "outputs": [
        {
          "output_type": "stream",
          "name": "stdout",
          "text": [
            "Top recommendations for user 1: [(4, 3.814290949948592)]\n"
          ]
        }
      ]
    }
  ]
}