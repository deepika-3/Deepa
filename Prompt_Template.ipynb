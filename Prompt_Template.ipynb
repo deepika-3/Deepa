{
  "nbformat": 4,
  "nbformat_minor": 0,
  "metadata": {
    "colab": {
      "provenance": [],
      "authorship_tag": "ABX9TyNbD8iHwy4f9oagzZ/x74qN",
      "include_colab_link": true
    },
    "kernelspec": {
      "name": "python3",
      "display_name": "Python 3"
    },
    "language_info": {
      "name": "python"
    }
  },
  "cells": [
    {
      "cell_type": "markdown",
      "metadata": {
        "id": "view-in-github",
        "colab_type": "text"
      },
      "source": [
        "<a href=\"https://colab.research.google.com/github/deepika-3/Deepa/blob/main/Prompt_Template.ipynb\" target=\"_parent\"><img src=\"https://colab.research.google.com/assets/colab-badge.svg\" alt=\"Open In Colab\"/></a>"
      ]
    },
    {
      "cell_type": "code",
      "execution_count": null,
      "metadata": {
        "id": "Bc6oJDC_AIRf"
      },
      "outputs": [],
      "source": [
        "#integrate our code with openAi\n",
        "#for custom search\n",
        "!pip install streamlit\n",
        "!pip install langchain\n",
        "!pip install --upgrade langchain\n",
        "!pip install python-dotenv\n",
        "\n",
        "import os\n",
        "from constants import openai_key\n",
        "from langchain.llms import OpenAI\n",
        "from langchain import Prompttemplate\n",
        "from langchain.memory import LLMChain\n",
        "\n",
        "\n",
        "import streamlit as st\n",
        "\n",
        "os.environ[\"OPENAI_API_KEY\"]=openai_key\n",
        "\n",
        "\n",
        "st.title('Celebrity search results')\n",
        "input_text=st.text_input(\"search the topic you want\")\n",
        "\n",
        "#prommpt template\n",
        "first_input_prompt=PromptTemplate(iput_variables=['name'],\n",
        "      template=\"tell me about specific {'name'})\n",
        "chain=LLMChain(llm=llm,prompt=first_input_prompt,verbose=True)\n",
        "\n",
        "llm=OpenAI(temperature=0.8)\n",
        "\n",
        "\n",
        "if input_text:\n",
        "      st.write(chain.run(input_text))\n",
        "\n",
        "#to integrate we need to initialize\n"
      ]
    }
  ]
}