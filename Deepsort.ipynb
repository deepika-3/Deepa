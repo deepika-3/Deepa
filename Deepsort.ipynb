{
  "cells": [
    {
      "cell_type": "markdown",
      "metadata": {
        "id": "view-in-github",
        "colab_type": "text"
      },
      "source": [
        "<a href=\"https://colab.research.google.com/github/deepika-3/Deepa/blob/main/Deepsort.ipynb\" target=\"_parent\"><img src=\"https://colab.research.google.com/assets/colab-badge.svg\" alt=\"Open In Colab\"/></a>"
      ]
    },
    {
      "cell_type": "code",
      "execution_count": null,
      "metadata": {
        "colab": {
          "base_uri": "https://localhost:8080/"
        },
        "id": "jxv84DeKRNpn",
        "outputId": "b3792e0a-69e4-4e1d-b352-c7073675893a"
      },
      "outputs": [
        {
          "name": "stdout",
          "output_type": "stream",
          "text": [
            "Cloning into 'yolov5'...\n",
            "remote: Enumerating objects: 14906, done.\u001b[K\n",
            "remote: Counting objects: 100% (26/26), done.\u001b[K\n",
            "remote: Compressing objects: 100% (24/24), done.\u001b[K\n",
            "remote: Total 14906 (delta 11), reused 12 (delta 2), pack-reused 14880\u001b[K\n",
            "Receiving objects: 100% (14906/14906), 13.93 MiB | 21.17 MiB/s, done.\n",
            "Resolving deltas: 100% (10249/10249), done.\n"
          ]
        }
      ],
      "source": [
        "!mkdir ./yolov5_deepsort\n",
        "!git clone https://github.com/ultralytics/yolov5.git"
      ]
    },
    {
      "cell_type": "code",
      "execution_count": null,
      "metadata": {
        "colab": {
          "base_uri": "https://localhost:8080/"
        },
        "id": "6mXB2uC1m86D",
        "outputId": "7c0e9fc1-a06e-46b7-bf17-4a18d0a74af2"
      },
      "outputs": [
        {
          "name": "stdout",
          "output_type": "stream",
          "text": [
            "/content/yolov5\n",
            "Looking in indexes: https://pypi.org/simple, https://us-python.pkg.dev/colab-wheels/public/simple/\n",
            "Collecting gitpython\n",
            "  Downloading GitPython-3.1.29-py3-none-any.whl (182 kB)\n",
            "\u001b[K     |████████████████████████████████| 182 kB 9.7 MB/s \n",
            "\u001b[?25hRequirement already satisfied: ipython in /usr/local/lib/python3.8/dist-packages (from -r requirements.txt (line 6)) (7.9.0)\n",
            "Requirement already satisfied: matplotlib>=3.2.2 in /usr/local/lib/python3.8/dist-packages (from -r requirements.txt (line 7)) (3.2.2)\n",
            "Requirement already satisfied: numpy>=1.18.5 in /usr/local/lib/python3.8/dist-packages (from -r requirements.txt (line 8)) (1.21.6)\n",
            "Requirement already satisfied: opencv-python>=4.1.1 in /usr/local/lib/python3.8/dist-packages (from -r requirements.txt (line 9)) (4.6.0.66)\n",
            "Requirement already satisfied: Pillow>=7.1.2 in /usr/local/lib/python3.8/dist-packages (from -r requirements.txt (line 10)) (7.1.2)\n",
            "Requirement already satisfied: psutil in /usr/local/lib/python3.8/dist-packages (from -r requirements.txt (line 11)) (5.4.8)\n",
            "Requirement already satisfied: PyYAML>=5.3.1 in /usr/local/lib/python3.8/dist-packages (from -r requirements.txt (line 12)) (6.0)\n",
            "Requirement already satisfied: requests>=2.23.0 in /usr/local/lib/python3.8/dist-packages (from -r requirements.txt (line 13)) (2.23.0)\n",
            "Requirement already satisfied: scipy>=1.4.1 in /usr/local/lib/python3.8/dist-packages (from -r requirements.txt (line 14)) (1.7.3)\n",
            "Collecting thop>=0.1.1\n",
            "  Downloading thop-0.1.1.post2209072238-py3-none-any.whl (15 kB)\n",
            "Requirement already satisfied: torch>=1.7.0 in /usr/local/lib/python3.8/dist-packages (from -r requirements.txt (line 16)) (1.13.0+cu116)\n",
            "Requirement already satisfied: torchvision>=0.8.1 in /usr/local/lib/python3.8/dist-packages (from -r requirements.txt (line 17)) (0.14.0+cu116)\n",
            "Requirement already satisfied: tqdm>=4.64.0 in /usr/local/lib/python3.8/dist-packages (from -r requirements.txt (line 18)) (4.64.1)\n",
            "Requirement already satisfied: tensorboard>=2.4.1 in /usr/local/lib/python3.8/dist-packages (from -r requirements.txt (line 22)) (2.9.1)\n",
            "Requirement already satisfied: pandas>=1.1.4 in /usr/local/lib/python3.8/dist-packages (from -r requirements.txt (line 27)) (1.3.5)\n",
            "Requirement already satisfied: seaborn>=0.11.0 in /usr/local/lib/python3.8/dist-packages (from -r requirements.txt (line 28)) (0.11.2)\n",
            "Requirement already satisfied: python-dateutil>=2.1 in /usr/local/lib/python3.8/dist-packages (from matplotlib>=3.2.2->-r requirements.txt (line 7)) (2.8.2)\n",
            "Requirement already satisfied: cycler>=0.10 in /usr/local/lib/python3.8/dist-packages (from matplotlib>=3.2.2->-r requirements.txt (line 7)) (0.11.0)\n",
            "Requirement already satisfied: kiwisolver>=1.0.1 in /usr/local/lib/python3.8/dist-packages (from matplotlib>=3.2.2->-r requirements.txt (line 7)) (1.4.4)\n",
            "Requirement already satisfied: pyparsing!=2.0.4,!=2.1.2,!=2.1.6,>=2.0.1 in /usr/local/lib/python3.8/dist-packages (from matplotlib>=3.2.2->-r requirements.txt (line 7)) (3.0.9)\n",
            "Requirement already satisfied: certifi>=2017.4.17 in /usr/local/lib/python3.8/dist-packages (from requests>=2.23.0->-r requirements.txt (line 13)) (2022.12.7)\n",
            "Requirement already satisfied: urllib3!=1.25.0,!=1.25.1,<1.26,>=1.21.1 in /usr/local/lib/python3.8/dist-packages (from requests>=2.23.0->-r requirements.txt (line 13)) (1.24.3)\n",
            "Requirement already satisfied: idna<3,>=2.5 in /usr/local/lib/python3.8/dist-packages (from requests>=2.23.0->-r requirements.txt (line 13)) (2.10)\n",
            "Requirement already satisfied: chardet<4,>=3.0.2 in /usr/local/lib/python3.8/dist-packages (from requests>=2.23.0->-r requirements.txt (line 13)) (3.0.4)\n",
            "Requirement already satisfied: typing-extensions in /usr/local/lib/python3.8/dist-packages (from torch>=1.7.0->-r requirements.txt (line 16)) (4.4.0)\n",
            "Requirement already satisfied: markdown>=2.6.8 in /usr/local/lib/python3.8/dist-packages (from tensorboard>=2.4.1->-r requirements.txt (line 22)) (3.4.1)\n",
            "Requirement already satisfied: tensorboard-plugin-wit>=1.6.0 in /usr/local/lib/python3.8/dist-packages (from tensorboard>=2.4.1->-r requirements.txt (line 22)) (1.8.1)\n",
            "Requirement already satisfied: setuptools>=41.0.0 in /usr/local/lib/python3.8/dist-packages (from tensorboard>=2.4.1->-r requirements.txt (line 22)) (57.4.0)\n",
            "Requirement already satisfied: google-auth-oauthlib<0.5,>=0.4.1 in /usr/local/lib/python3.8/dist-packages (from tensorboard>=2.4.1->-r requirements.txt (line 22)) (0.4.6)\n",
            "Requirement already satisfied: google-auth<3,>=1.6.3 in /usr/local/lib/python3.8/dist-packages (from tensorboard>=2.4.1->-r requirements.txt (line 22)) (2.15.0)\n",
            "Requirement already satisfied: absl-py>=0.4 in /usr/local/lib/python3.8/dist-packages (from tensorboard>=2.4.1->-r requirements.txt (line 22)) (1.3.0)\n",
            "Requirement already satisfied: protobuf<3.20,>=3.9.2 in /usr/local/lib/python3.8/dist-packages (from tensorboard>=2.4.1->-r requirements.txt (line 22)) (3.19.6)\n",
            "Requirement already satisfied: werkzeug>=1.0.1 in /usr/local/lib/python3.8/dist-packages (from tensorboard>=2.4.1->-r requirements.txt (line 22)) (1.0.1)\n",
            "Requirement already satisfied: wheel>=0.26 in /usr/local/lib/python3.8/dist-packages (from tensorboard>=2.4.1->-r requirements.txt (line 22)) (0.38.4)\n",
            "Requirement already satisfied: tensorboard-data-server<0.7.0,>=0.6.0 in /usr/local/lib/python3.8/dist-packages (from tensorboard>=2.4.1->-r requirements.txt (line 22)) (0.6.1)\n",
            "Requirement already satisfied: grpcio>=1.24.3 in /usr/local/lib/python3.8/dist-packages (from tensorboard>=2.4.1->-r requirements.txt (line 22)) (1.51.1)\n",
            "Requirement already satisfied: pytz>=2017.3 in /usr/local/lib/python3.8/dist-packages (from pandas>=1.1.4->-r requirements.txt (line 27)) (2022.6)\n",
            "Requirement already satisfied: cachetools<6.0,>=2.0.0 in /usr/local/lib/python3.8/dist-packages (from google-auth<3,>=1.6.3->tensorboard>=2.4.1->-r requirements.txt (line 22)) (5.2.0)\n",
            "Requirement already satisfied: rsa<5,>=3.1.4 in /usr/local/lib/python3.8/dist-packages (from google-auth<3,>=1.6.3->tensorboard>=2.4.1->-r requirements.txt (line 22)) (4.9)\n",
            "Requirement already satisfied: six>=1.9.0 in /usr/local/lib/python3.8/dist-packages (from google-auth<3,>=1.6.3->tensorboard>=2.4.1->-r requirements.txt (line 22)) (1.15.0)\n",
            "Requirement already satisfied: pyasn1-modules>=0.2.1 in /usr/local/lib/python3.8/dist-packages (from google-auth<3,>=1.6.3->tensorboard>=2.4.1->-r requirements.txt (line 22)) (0.2.8)\n",
            "Requirement already satisfied: requests-oauthlib>=0.7.0 in /usr/local/lib/python3.8/dist-packages (from google-auth-oauthlib<0.5,>=0.4.1->tensorboard>=2.4.1->-r requirements.txt (line 22)) (1.3.1)\n",
            "Requirement already satisfied: importlib-metadata>=4.4 in /usr/local/lib/python3.8/dist-packages (from markdown>=2.6.8->tensorboard>=2.4.1->-r requirements.txt (line 22)) (5.1.0)\n",
            "Requirement already satisfied: zipp>=0.5 in /usr/local/lib/python3.8/dist-packages (from importlib-metadata>=4.4->markdown>=2.6.8->tensorboard>=2.4.1->-r requirements.txt (line 22)) (3.11.0)\n",
            "Requirement already satisfied: pyasn1<0.5.0,>=0.4.6 in /usr/local/lib/python3.8/dist-packages (from pyasn1-modules>=0.2.1->google-auth<3,>=1.6.3->tensorboard>=2.4.1->-r requirements.txt (line 22)) (0.4.8)\n",
            "Requirement already satisfied: oauthlib>=3.0.0 in /usr/local/lib/python3.8/dist-packages (from requests-oauthlib>=0.7.0->google-auth-oauthlib<0.5,>=0.4.1->tensorboard>=2.4.1->-r requirements.txt (line 22)) (3.2.2)\n",
            "Collecting gitdb<5,>=4.0.1\n",
            "  Downloading gitdb-4.0.10-py3-none-any.whl (62 kB)\n",
            "\u001b[K     |████████████████████████████████| 62 kB 1.6 MB/s \n",
            "\u001b[?25hCollecting smmap<6,>=3.0.1\n",
            "  Downloading smmap-5.0.0-py3-none-any.whl (24 kB)\n",
            "Requirement already satisfied: pickleshare in /usr/local/lib/python3.8/dist-packages (from ipython->-r requirements.txt (line 6)) (0.7.5)\n",
            "Requirement already satisfied: traitlets>=4.2 in /usr/local/lib/python3.8/dist-packages (from ipython->-r requirements.txt (line 6)) (5.7.1)\n",
            "Requirement already satisfied: pygments in /usr/local/lib/python3.8/dist-packages (from ipython->-r requirements.txt (line 6)) (2.6.1)\n",
            "Collecting jedi>=0.10\n",
            "  Downloading jedi-0.18.2-py2.py3-none-any.whl (1.6 MB)\n",
            "\u001b[K     |████████████████████████████████| 1.6 MB 44.9 MB/s \n",
            "\u001b[?25hRequirement already satisfied: decorator in /usr/local/lib/python3.8/dist-packages (from ipython->-r requirements.txt (line 6)) (4.4.2)\n",
            "Requirement already satisfied: backcall in /usr/local/lib/python3.8/dist-packages (from ipython->-r requirements.txt (line 6)) (0.2.0)\n",
            "Requirement already satisfied: pexpect in /usr/local/lib/python3.8/dist-packages (from ipython->-r requirements.txt (line 6)) (4.8.0)\n",
            "Requirement already satisfied: prompt-toolkit<2.1.0,>=2.0.0 in /usr/local/lib/python3.8/dist-packages (from ipython->-r requirements.txt (line 6)) (2.0.10)\n",
            "Requirement already satisfied: parso<0.9.0,>=0.8.0 in /usr/local/lib/python3.8/dist-packages (from jedi>=0.10->ipython->-r requirements.txt (line 6)) (0.8.3)\n",
            "Requirement already satisfied: wcwidth in /usr/local/lib/python3.8/dist-packages (from prompt-toolkit<2.1.0,>=2.0.0->ipython->-r requirements.txt (line 6)) (0.2.5)\n",
            "Requirement already satisfied: ptyprocess>=0.5 in /usr/local/lib/python3.8/dist-packages (from pexpect->ipython->-r requirements.txt (line 6)) (0.7.0)\n",
            "Installing collected packages: smmap, jedi, gitdb, thop, gitpython\n",
            "Successfully installed gitdb-4.0.10 gitpython-3.1.29 jedi-0.18.2 smmap-5.0.0 thop-0.1.1.post2209072238\n"
          ]
        }
      ],
      "source": [
        "%cd ./yolov5\n",
        "!pip install -r requirements.txt"
      ]
    },
    {
      "cell_type": "code",
      "execution_count": null,
      "metadata": {
        "colab": {
          "base_uri": "https://localhost:8080/"
        },
        "id": "f-PCvHONnDT4",
        "outputId": "e1679c90-016d-495c-8ea1-bc6f67956fe1"
      },
      "outputs": [
        {
          "name": "stdout",
          "output_type": "stream",
          "text": [
            "Cloning into 'deep_sort'...\n",
            "remote: Enumerating objects: 141, done.\u001b[K\n",
            "remote: Total 141 (delta 0), reused 0 (delta 0), pack-reused 141\u001b[K\n",
            "Receiving objects: 100% (141/141), 65.59 KiB | 5.04 MiB/s, done.\n",
            "Resolving deltas: 100% (78/78), done.\n"
          ]
        }
      ],
      "source": [
        "\n",
        "!git clone https://github.com/nwojke/deep_sort.git"
      ]
    },
    {
      "cell_type": "code",
      "execution_count": null,
      "metadata": {
        "colab": {
          "background_save": true
        },
        "id": "KaK_dDyMn6pn",
        "outputId": "c6aa0787-0209-44cd-80ed-e99f8bacf173"
      },
      "outputs": [
        {
          "name": "stdout",
          "output_type": "stream",
          "text": [
            "Writing detect_track.py\n"
          ]
        }
      ],
      "source": [
        "%%writefile detect_track.py\n",
        "# YOLOv5 ? by Ultralytics, GPL-3.0 license.\n",
        "\"\"\"\n",
        "Run inference on images, videos, directories, streams, etc.\n",
        "\n",
        "Usage - sources:\n",
        "    $ python path/to/detect.py --weights yolov5s.pt --source 0\n",
        " # webcam\n",
        "\n",
        " img.jpg      # image\n",
        "\n",
        " vid.mp4       # video\n",
        "\n",
        "path/         # directory\n",
        "\n",
        "path/*.jpg    # glob\n",
        "\n",
        "'https://youtu.be/Zgi9g1ksQHc'  # YouTube\n",
        "\n",
        "'rtsp://example.com/media.mp4'  # RTSP, RTMP, HTTP stream\n",
        "\"\"\"\n",
        "\n",
        "import argparse\n",
        "import os\n",
        "import sys\n",
        "from pathlib import Path\n",
        "\n",
        "import torch\n",
        "import torch.backends.cudnn as cudnn\n",
        "\n",
        "FILE = Path(__file__).resolve()\n",
        "ROOT = FILE.parents[0]  # YOLOv5 root directory.\n",
        "if str(ROOT) not in sys.path:\n",
        "    sys.path.append(str(ROOT))  # Add ROOT to PATH.\n",
        "ROOT = Path(os.path.relpath(ROOT, Path.cwd()))  # Relative.\n",
        "\n",
        "# DeepSORT -> Importing DeepSORT.\n",
        "from deep_sort.application_util import preprocessing\n",
        "from deep_sort.deep_sort import nn_matching\n",
        "from deep_sort.deep_sort.detection import Detection\n",
        "from deep_sort.deep_sort.tracker import Tracker\n",
        "from deep_sort.tools import generate_detections as gdet\n",
        "\n",
        " import torch\n",
        " import utils\n",
        " display = util.notebook_init()\n",
        "\n",
        "from models.common import DetectMultiBackend\n",
        "from utils.dataloaders import IMG_FORMATS, VID_FORMATS, LoadImages, LoadStreams\n",
        "from utils.general import (LOGGER, check_file, check_img_size, check_imshow, check_requirements, colorstr, cv2,\n",
        "                          increment_path, non_max_suppression, print_args, scale_coords, strip_optimizer, xyxy2xywh)\n",
        "from utils.plots import Annotator, colors, save_one_box\n",
        "from utils.torch_utils import select_device, time_sync\n",
        "\n",
        "\n",
        "@torch.no_grad()\n",
        "def run(\n",
        "        weights=ROOT / 'yolov5s.pt',  # model.pt path(s)\n",
        "        source=ROOT / 'data/images',  # file/dir/URL/glob, 0 for webcam\n",
        "        data=ROOT / 'data/coco128.yaml',  # dataset.yaml path.\n",
        "        imgsz=(640, 640),  # Inference size (height, width).\n",
        "        conf_thres=0.25,  # Confidence threshold.\n",
        "        iou_thres=0.45,  # NMS IOU threshold.\n",
        "        max_det=1000,  # Maximum detections per image.\n",
        "        device='',  # Cuda device, i.e. 0 or 0,1,2,3 or cpu.\n",
        "        view_img=False,  # Show results.\n",
        "        save_txt=False,  # Save results to *.txt.\n",
        "        save_conf=False,  # Save confidences in --save-txt labels.\n",
        "        save_crop=False,  # Save cropped prediction boxes.\n",
        "        nosave=False,  # Do not save images/videos.\n",
        "        classes=None,  # Filter by class: --class 0, or --class 0 2 3.\n",
        "        agnostic_nms=False,  # Class-agnostic NMS.\n",
        "        augment=False,  # Augmented inference.\n",
        "        visualize=False,  # Visualize features.\n",
        "        update=False,  # Update all models.\n",
        "        project=ROOT / 'runs/detect',  # Save results to project/name.\n",
        "        name='exp',  # Save results to project/name.\n",
        "        exist_ok=False,  # Existing project/name ok, do not increment.\n",
        "        line_thickness=3,  # Bounding box thickness (pixels).\n",
        "        hide_labels=False,  # Hide labels.\n",
        "        hide_conf=False,  # Hide confidences.\n",
        "        half=False,  # Use FP16 half-precision inference.\n",
        "        dnn=False,  # Use OpenCV DNN for ONNX inference.\n",
        "):\n",
        "    source = str(source)\n",
        "    save_img = not nosave and not source.endswith('.txt')  # Save inference images.\n",
        "    is_file = Path(source).suffix[1:] in (IMG_FORMATS + VID_FORMATS)\n",
        "    is_url = source.lower().startswith(('rtsp://', 'rtmp://', 'http://', 'https://'))\n",
        "    webcam = source.isnumeric() or source.endswith('.txt') or (is_url and not is_file)\n",
        "    if is_url and is_file:\n",
        "        source = check_file(source)  # Download.\n",
        "\n",
        "    # DeepSORT -> Initializing tracker.\n",
        "    max_cosine_distance = 0.4\n",
        "    nn_budget = None\n",
        "    model_filename = './model_data/mars-small128.pb'\n",
        "    encoder = gdet.create_box_encoder(model_filename, batch_size=1)\n",
        "    metric = nn_matching.NearestNeighborDistanceMetric(\"cosine\", max_cosine_distance, nn_budget)\n",
        "    tracker = Tracker(metric)\n",
        "\n",
        "    # Directories.\n",
        "    if not os.path.isdir('./runs/'):\n",
        "      os.mkdir('./runs/')\n",
        "    save_dir = os.path.join(os.getcwd(), \"runs\")\n",
        "    print(save_dir)\n",
        "    '''save_dir = increment_path(Path(project) / name, exist_ok=exist_ok)  # increment run\n",
        "    (save_dir / 'labels' if save_txt else save_dir).mkdir(parents=True, exist_ok=True)  # make dir'''\n",
        "\n",
        "    # Load model.\n",
        "    device = select_device(device)\n",
        "    model = DetectMultiBackend(weights, device=device, dnn=dnn, data=data, fp16=half)\n",
        "    stride, names, pt = model.stride, model.names, model.pt\n",
        "    imgsz = check_img_size(imgsz, s=stride)  # Check image size.\n",
        "\n",
        "    # Dataloader.\n",
        "    if webcam:\n",
        "        view_img = check_imshow()\n",
        "        cudnn.benchmark = True  # Set True to speed up constant image size inference.\n",
        "        dataset = LoadStreams(source, img_size=imgsz, stride=stride, auto=pt)\n",
        "        bs = len(dataset)  # batch_size.\n",
        "    else:\n",
        "        dataset = LoadImages(source, img_size=imgsz, stride=stride, auto=pt)\n",
        "        bs = 1  # batch_size.\n",
        "    vid_path, vid_writer = [None] * bs, [None] * bs\n",
        "\n",
        "    # Run inference.\n",
        "    model.warmup(imgsz=(1 if pt else bs, 3, *imgsz))  # Warmup.\n",
        "    dt, seen = [0.0, 0.0, 0.0], 0\n",
        "    frame_idx=0\n",
        "    for path, im, im0s, vid_cap, s in dataset:\n",
        "        t1 =  time_sync()\n",
        "        im = torch.from_numpy(im).to(device)\n",
        "        im = im.half() if model.fp16 else im.float()  # uint8 to fp16/32.        im /= 255  # 0 - 255 to 0.0 - 1.0\n",
        "        if len(im.shape) == 3:\n",
        "            im = im[None]  # Expand for batch dim.\n",
        "        t2 = time_sync()\n",
        "        dt[0] += t2 - t1\n",
        "\n",
        "        # Inference.\n",
        "        visualize = increment_path(save_dir / Path(path).stem, mkdir=True) if visualize else False\n",
        "        pred = model(im, augment=augment, visualize=visualize)\n",
        "        t3 = time_sync()\n",
        "        dt[1] += t3 - t2\n",
        "\n",
        "        # NMS.\n",
        "        pred = non_max_suppression(pred, conf_thres, iou_thres, classes, agnostic_nms, max_det=max_det)\n",
        "        dt[2] += time_sync() - t3\n",
        "\n",
        "        # Second-stage classifier (optional).\n",
        "        # pred = utils.general.apply_classifier(pred, classifier_model, im, im0s)\n",
        "\n",
        "        frame_idx=frame_idx+1\n",
        "        # Process predictions.\n",
        "        for i, det in enumerate(pred):  # Per image.\n",
        "            seen += 1\n",
        "            if webcam:  # batch_size >= 1\n",
        "                p, im0, frame = path[i], im0s[i].copy(), dataset.count\n",
        "                s += f'{i}: '\n",
        "            else:\n",
        "                p, im0, frame = path, im0s.copy(), getattr(dataset, 'frame', 0)\n",
        "\n",
        "            p = Path(p)  # To Path.\n",
        "            print(\"stem\", p.stem)\n",
        "            print(\"dir\", save_dir)\n",
        "            save_path = os.path.join(save_dir, p.name)  # im.jpg\n",
        "            txt_path = os.path.join(save_dir , p.stem) # im.txt\n",
        "            s += '%gx%g ' % im.shape[2:]  # Print string.\n",
        "            gn = torch.tensor(im0.shape)[[1, 0, 1, 0]]  # Normalization gain whwh.\n",
        "            imc = im0.copy() if save_crop else im0  # For save_crop.\n",
        "            annotator = Annotator(im0, line_width=line_thickness, example=str(names))\n",
        "\n",
        "            if len(det):\n",
        "                # Rescale boxes from img_size to im0 size.\n",
        "                det[:, :4] = scale_coords(im.shape[2:], det[:, :4], im0.shape).round()\n",
        "\n",
        "                # Print results.\n",
        "                for c in det[:, -1].unique():\n",
        "                    n = (det[:, -1] == c).sum()  # Detections per class.\n",
        "                    s += f\"{n} {names[int(c)]}{'s' * (n > 1)}, \"  # Add to string.\n",
        "\n",
        "                # DeepSORT -> Extracting Bounding boxes and its confidence scores.\n",
        "                bboxes = []\n",
        "                scores = []\n",
        "                for *boxes, conf, cls in det:\n",
        "                  bbox_left = min([boxes[0].item(), boxes[2].item()])\n",
        "                  bbox_top = min([boxes[1].item(), boxes[3].item()])\n",
        "                  bbox_w = abs(boxes[0].item() - boxes[2].item())\n",
        "                  bbox_h = abs(boxes[1].item() - boxes[3].item())\n",
        "                  box = [bbox_left, bbox_top, bbox_w, bbox_h]\n",
        "                  bboxes.append(box)\n",
        "                  scores.append(conf.item())\n",
        "\n",
        "                # DeepSORT -> Getting appearance features of the object.\n",
        "                features = encoder(im0, bboxes)\n",
        "                # DeepSORT -> Storing all the required info in a list.\n",
        "                detections = [Detection(bbox, score, feature) for bbox, score, feature in zip(bboxes, scores, features)]\n",
        "\n",
        "                # DeepSORT -> Predicting Tracks.\n",
        "                tracker.predict()\n",
        "                tracker.update(detections)\n",
        "                #track_time = time.time() - prev_time\n",
        "\n",
        "                # DeepSORT -> Plotting the tracks.\n",
        "                for track in tracker.tracks:\n",
        "                  if not track.is_confirmed() or track.time_since_update > 1:\n",
        "                      continue\n",
        "\n",
        "                  # DeepSORT -> Changing track bbox to top left, bottom right coordinates.\n",
        "                  bbox = list(track.to_tlbr())\n",
        "\n",
        "                  # DeepSORT -> Writing Track bounding box and ID on the frame using OpenCV.\n",
        "                  txt = 'id:' + str(track.track_id)\n",
        "                  (label_width,label_height), baseline = cv2.getTextSize(txt , cv2.FONT_HERSHEY_SIMPLEX,1,1)\n",
        "                  top_left = tuple(map(int,[int(bbox[0]),int(bbox[1])-(label_height+baseline)]))\n",
        "                  top_right = tuple(map(int,[int(bbox[0])+label_width,int(bbox[1])]))\n",
        "                  org = tuple(map(int,[int(bbox[0]),int(bbox[1])-baseline]))\n",
        "\n",
        "                  cv2.rectangle(im0, (int(bbox[0]), int(bbox[1])), (int(bbox[2]), int(bbox[3])), (255,0,0), 1)\n",
        "                  cv2.rectangle(im0, top_left, top_right, (255,0,0), -1)\n",
        "                  cv2.putText(im0, txt, org, cv2.FONT_HERSHEY_SIMPLEX, 1, (255,255,255), 1)\n",
        "\n",
        "                  # DeepSORT -> Saving Track predictions into a text file.\n",
        "                  save_format = '{frame},{id},{x1},{y1},{w},{h},{x},{y},{z}\\n'\n",
        "                  print(\"txt: \", txt_path, '.txt')\n",
        "                  with open(txt_path + '.txt', 'w') as f:\n",
        "                    line = save_format.format(frame=frame_idx, id=track.track_id, x1=int(bbox[0]), y1=int(bbox[1]), w=int(bbox[2]- bbox[0]), h=int(bbox[3]-bbox[1]), x = -1, y = -1, z = -1)\n",
        "                    f.write(line)\n",
        "\n",
        "            # Stream results.\n",
        "            im0 = annotator.result()\n",
        "\n",
        "            # Save results (image with detections and tracks).\n",
        "            if save_img:\n",
        "                if dataset.mode == 'image':\n",
        "                    cv2.imwrite(save_path, im0)\n",
        "                else:  # 'video' or 'stream'\n",
        "                    if vid_path[i] != save_path:  # New video.\n",
        "                        vid_path[i] = save_path\n",
        "                        if isinstance(vid_writer[i], cv2.VideoWriter):\n",
        "                            vid_writer[i].release()  # Release previous video writer.\n",
        "                        if vid_cap:  # video\n",
        "                            fps = vid_cap.get(cv2.CAP_PROP_FPS)\n",
        "                            w = int(vid_cap.get(cv2.CAP_PROP_FRAME_WIDTH))\n",
        "                            h = int(vid_cap.get(cv2.CAP_PROP_FRAME_HEIGHT))\n",
        "                        else:  # Stream.\n",
        "                            fps, w, h = 30, im0.shape[1], im0.shape[0]\n",
        "                        save_path = str(Path(save_path).with_suffix('.mp4'))  # Force *.mp4 suffix on results videos.\n",
        "                        vid_writer[i] = cv2.VideoWriter(save_path, cv2.VideoWriter_fourcc(*'mp4v'), fps, (w, h))\n",
        "                    vid_writer[i].write(im0)\n",
        "\n",
        "        # Print time (inference-only).\n",
        "        LOGGER.info(f'{s}Done. ({t3 - t2:.3f}s)')\n",
        "\n",
        "    # Print results.\n",
        "    t = tuple(x / seen * 1E3 for x in dt)  # Speeds per image.\n",
        "    LOGGER.info(f'Speed: %.1fms pre-process, %.1fms inference, %.1fms NMS per image at shape {(1, 3, *imgsz)}' % t)\n",
        "    if update:\n",
        "        strip_optimizer(weights)  # Update model (to fix SourceChangeWarning).\n",
        "\n",
        "\n",
        "def parse_opt():\n",
        "    parser = argparse.ArgumentParser()\n",
        "    parser.add_argument('--weights', nargs='+', type=str, default=ROOT / 'yolov5s.pt', help='model path(s)')\n",
        "    parser.add_argument('--source', type=str, default=ROOT / 'data/images', help='file/dir/URL/glob, 0 for webcam')\n",
        "    parser.add_argument('--data', type=str, default=ROOT / 'data/coco128.yaml', help='(optional) dataset.yaml path')\n",
        "    parser.add_argument('--imgsz', '--img', '--img-size', nargs='+', type=int, default=[640], help='inference size h,w')\n",
        "    parser.add_argument('--conf-thres', type=float, default=0.25, help='confidence threshold')\n",
        "    parser.add_argument('--iou-thres', type=float, default=0.45, help='NMS IoU threshold')\n",
        "    parser.add_argument('--max-det', type=int, default=1000, help='maximum detections per image')\n",
        "    parser.add_argument('--device', default='', help='cuda device, i.e. 0 or 0,1,2,3 or cpu')\n",
        "    parser.add_argument('--view-img', action='store_true', help='show results')\n",
        "    parser.add_argument('--save-txt', action='store_true', help='save results to *.txt')\n",
        "    parser.add_argument('--save-conf', action='store_true', help='save confidences in --save-txt labels')\n",
        "    parser.add_argument('--save-crop', action='store_true', help='save cropped prediction boxes')\n",
        "    parser.add_argument('--nosave', action='store_true', help='do not save images/videos')\n",
        "    parser.add_argument('--classes', nargs='+', type=int, help='filter by class: --classes 0, or --classes 0 2 3')\n",
        "    parser.add_argument('--agnostic-nms', action='store_true', help='class-agnostic NMS')\n",
        "    parser.add_argument('--augment', action='store_true', help='augmented inference')\n",
        "    parser.add_argument('--visualize', action='store_true', help='visualize features')\n",
        "    parser.add_argument('--update', action='store_true', help='update all models')\n",
        "    parser.add_argument('--project', default=ROOT / 'runs/detect', help='save results to project/name')\n",
        "    parser.add_argument('--name', default='exp', help='save results to project/name')\n",
        "    parser.add_argument('--exist-ok', action='store_true', help='existing project/name ok, do not increment')\n",
        "    parser.add_argument('--line-thickness', default=3, type=int, help='bounding box thickness (pixels)')\n",
        "    parser.add_argument('--hide-labels', default=False, action='store_true', help='hide labels')\n",
        "    parser.add_argument('--hide-conf', default=False, action='store_true', help='hide confidences')\n",
        "    parser.add_argument('--half', action='store_true', help='use FP16 half-precision inference')\n",
        "    parser.add_argument('--dnn', action='store_true', help='use OpenCV DNN for ONNX inference')\n",
        "    opt = parser.parse_args()\n",
        "    opt.imgsz *= 2 if len(opt.imgsz) == 1 else 1  # Expand.\n",
        "    print_args(vars(opt))\n",
        "    return opt\n",
        "\n",
        "def main(opt):\n",
        "    check_requirements(exclude=('tensorboard', 'thop'))\n",
        "    run(**vars(opt))\n",
        "\n",
        "if __name__ == \"__main__\":\n",
        "    opt = parse_opt()\n",
        "    main(opt)"
      ]
    },
    {
      "cell_type": "code",
      "execution_count": null,
      "metadata": {
        "colab": {
          "base_uri": "https://localhost:8080/"
        },
        "id": "s6Zse6l10kvF",
        "outputId": "0e0fb01d-4cde-4506-c564-4b7731c940c9"
      },
      "outputs": [
        {
          "name": "stdout",
          "output_type": "stream",
          "text": [
            "Mounted at /content/drive/\n"
          ]
        }
      ],
      "source": [
        "from google.colab import drive\n",
        "drive.mount('/content/drive/')"
      ]
    },
    {
      "cell_type": "code",
      "execution_count": null,
      "metadata": {
        "colab": {
          "base_uri": "https://localhost:8080/"
        },
        "id": "edshyhsp2Fls",
        "outputId": "0f10be89-58e3-4e50-fa29-c0f4096ecf88"
      },
      "outputs": [
        {
          "name": "stdout",
          "output_type": "stream",
          "text": [
            "Cloning into 'view'...\n",
            "fatal: repository 'https://drive.google.com/file/d/1j479rGswKUthLM8FYOYL_19gXHmjoksU/view/' not found\n",
            "[Errno 2] No such file or directory: '/.view_evaluation'\n",
            "/content\n"
          ]
        }
      ],
      "source": [
        "!git clone https://drive.google.com/file/d/1j479rGswKUthLM8FYOYL_19gXHmjoksU/view  #ttps://github.com/shenh10/mot_evaluation.git\n",
        "%cd /.view_evaluation"
      ]
    },
    {
      "cell_type": "code",
      "execution_count": null,
      "metadata": {
        "id": "7o-H4sPdz8SD"
      },
      "outputs": [],
      "source": [
        "!python detect_track.py --weights yolov5m.pt  --img 640  --source https://drive.google.com/file/d/1j479rGswKUthLM8FYOYL_19gXHmjoksU/view --save-txt --classes 0 --line-thickness 1\n"
      ]
    },
    {
      "cell_type": "code",
      "execution_count": null,
      "metadata": {
        "id": "cYrrXcsf2fNh"
      },
      "outputs": [],
      "source": [
        "\n",
        "!python evaluate_tracking.py --seqmap './https://drive.google.com/file/d/1j479rGswKUthLM8FYOYL_19gXHmjoksU/view/' --track './yolov5/runs/' --gt './label_960x540'"
      ]
    }
  ],
  "metadata": {
    "colab": {
      "provenance": [],
      "authorship_tag": "ABX9TyPafX7b0GvGK1ZER5Pl0nYY",
      "include_colab_link": true
    },
    "kernelspec": {
      "display_name": "Python 3",
      "name": "python3"
    },
    "language_info": {
      "name": "python"
    }
  },
  "nbformat": 4,
  "nbformat_minor": 0
}